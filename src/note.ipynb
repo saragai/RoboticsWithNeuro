{
 "cells": [
  {
   "cell_type": "code",
   "execution_count": 1,
   "metadata": {},
   "outputs": [
    {
     "name": "stdout",
     "output_type": "stream",
     "text": [
      "Player0, (0,2)\n",
      "[[-1. -1.  0.]\n",
      " [-1. -1. -1.]\n",
      " [-1. -1. -1.]]\n",
      "Player1, (1,1)\n",
      "[[-1. -1.  0.]\n",
      " [-1.  1. -1.]\n",
      " [-1. -1. -1.]]\n",
      "Player0, (1,2)\n",
      "[[-1. -1.  0.]\n",
      " [-1.  1.  0.]\n",
      " [-1. -1. -1.]]\n",
      "Player1, (0,1)\n",
      "[[-1.  1.  0.]\n",
      " [-1.  1.  0.]\n",
      " [-1. -1. -1.]]\n",
      "Player0, (2,0)\n",
      "[[-1.  1.  0.]\n",
      " [-1.  1.  0.]\n",
      " [ 0. -1. -1.]]\n",
      "Player1, (0,0)\n",
      "[[ 1.  1.  0.]\n",
      " [-1.  1.  0.]\n",
      " [ 0. -1. -1.]]\n",
      "Player0, (1,0)\n",
      "[[ 1.  1.  0.]\n",
      " [ 0.  1.  0.]\n",
      " [ 0. -1. -1.]]\n",
      "s: 3\n",
      "Player1, (2,1)\n",
      "[[ 1.  1.  0.]\n",
      " [ 0.  1.  0.]\n",
      " [ 0.  1. -1.]]\n",
      "1\n"
     ]
    }
   ],
   "source": [
    "import main"
   ]
  },
  {
   "cell_type": "code",
   "execution_count": null,
   "metadata": {
    "collapsed": true
   },
   "outputs": [],
   "source": []
  }
 ],
 "metadata": {
  "kernelspec": {
   "display_name": "Python 3",
   "language": "python",
   "name": "python3"
  },
  "language_info": {
   "codemirror_mode": {
    "name": "ipython",
    "version": 3
   },
   "file_extension": ".py",
   "mimetype": "text/x-python",
   "name": "python",
   "nbconvert_exporter": "python",
   "pygments_lexer": "ipython3",
   "version": "3.6.3"
  }
 },
 "nbformat": 4,
 "nbformat_minor": 2
}
