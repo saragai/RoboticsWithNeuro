{
 "cells": [
  {
   "cell_type": "code",
   "execution_count": null,
   "metadata": {
    "collapsed": true
   },
   "outputs": [],
   "source": [
    "#main.py\n",
    "\n",
    "from Game import Game\n",
    "from RandomPlayer import RandomPlayer\n",
    "\n",
    "game = Game()\n",
    "pl1 = RandomPlayer()\n",
    "pl2 = RandomPlayer()\n",
    "\n",
    "game.set_player(pl1,pl2)\n",
    "\n",
    "game.game_main()"
   ]
  }
 ],
 "metadata": {
  "kernelspec": {
   "display_name": "Python 3",
   "language": "python",
   "name": "python3"
  },
  "language_info": {
   "codemirror_mode": {
    "name": "ipython",
    "version": 3
   },
   "file_extension": ".py",
   "mimetype": "text/x-python",
   "name": "python",
   "nbconvert_exporter": "python",
   "pygments_lexer": "ipython3",
   "version": "3.6.3"
  }
 },
 "nbformat": 4,
 "nbformat_minor": 2
}
